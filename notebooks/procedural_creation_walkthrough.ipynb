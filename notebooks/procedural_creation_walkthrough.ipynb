{
 "cells": [
  {
   "attachments": {},
   "cell_type": "markdown",
   "metadata": {},
   "source": [
    "# Overview\n",
    "\n",
    "In this notebook, we will go through the task generation pipeline in LIBERO. We will cover the following contents:\n",
    "\n",
    "1. Retrieve a list of available objects, predicates\n",
    " in the codebase\n",
    "2. Define your own initial state distribution\n",
    "3. Define your own task goal\n",
    "4. Generate the pddl file for the task\n",
    "\n",
    "Now, let's get started!"
   ]
  },
  {
   "attachments": {},
   "cell_type": "markdown",
   "metadata": {},
   "source": [
    "## 1. Retrieve a list of objects available\n",
    "\n",
    "In order for the sucess in task generation, we need to make sure that the objects and the predicates (object relations) specified are available in the codebase."
   ]
  },
  {
   "cell_type": "code",
   "execution_count": 5,
   "metadata": {
    "ExecuteTime": {
     "end_time": "2025-03-17T05:09:50.705660Z",
     "start_time": "2025-03-17T05:09:40.433282Z"
    }
   },
   "outputs": [
    {
     "ename": "KeyboardInterrupt",
     "evalue": "",
     "output_type": "error",
     "traceback": [
      "\u001B[0;31m---------------------------------------------------------------------------\u001B[0m",
      "\u001B[0;31mKeyboardInterrupt\u001B[0m                         Traceback (most recent call last)",
      "Cell \u001B[0;32mIn[5], line 4\u001B[0m\n\u001B[1;32m      1\u001B[0m \u001B[38;5;28;01mfrom\u001B[39;00m\u001B[38;5;250m \u001B[39m\u001B[38;5;21;01mlibero\u001B[39;00m\u001B[38;5;21;01m.\u001B[39;00m\u001B[38;5;21;01mlibero\u001B[39;00m\u001B[38;5;21;01m.\u001B[39;00m\u001B[38;5;21;01menvs\u001B[39;00m\u001B[38;5;21;01m.\u001B[39;00m\u001B[38;5;21;01mobjects\u001B[39;00m\u001B[38;5;250m \u001B[39m\u001B[38;5;28;01mimport\u001B[39;00m get_object_dict, get_object_fn\n\u001B[1;32m      3\u001B[0m \u001B[38;5;66;03m# Get a dictionary of all the objects\u001B[39;00m\n\u001B[0;32m----> 4\u001B[0m object_dict \u001B[38;5;241m=\u001B[39m \u001B[43mget_object_dict\u001B[49m\u001B[43m(\u001B[49m\u001B[43m)\u001B[49m\n\u001B[1;32m      5\u001B[0m \u001B[38;5;28mprint\u001B[39m(object_dict)\n",
      "File \u001B[0;32m~/Documents/VLA/LIBERO/libero/libero/envs/objects/__init__.py:18\u001B[0m, in \u001B[0;36mget_object_dict\u001B[0;34m()\u001B[0m\n\u001B[1;32m     17\u001B[0m \u001B[38;5;28;01mdef\u001B[39;00m\u001B[38;5;250m \u001B[39m\u001B[38;5;21mget_object_dict\u001B[39m():\n\u001B[0;32m---> 18\u001B[0m     \u001B[38;5;28;01mreturn\u001B[39;00m \u001B[43mOBJECTS_DICT\u001B[49m\n",
      "File \u001B[0;32m~/Documents/VLA/LIBERO/libero/libero/envs/objects/__init__.py:18\u001B[0m, in \u001B[0;36mget_object_dict\u001B[0;34m()\u001B[0m\n\u001B[1;32m     17\u001B[0m \u001B[38;5;28;01mdef\u001B[39;00m\u001B[38;5;250m \u001B[39m\u001B[38;5;21mget_object_dict\u001B[39m():\n\u001B[0;32m---> 18\u001B[0m     \u001B[38;5;28;01mreturn\u001B[39;00m \u001B[43mOBJECTS_DICT\u001B[49m\n",
      "File \u001B[0;32m_pydevd_bundle/pydevd_cython_darwin_39_64.pyx:1179\u001B[0m, in \u001B[0;36m_pydevd_bundle.pydevd_cython_darwin_39_64.SafeCallWrapper.__call__\u001B[0;34m()\u001B[0m\n",
      "File \u001B[0;32m_pydevd_bundle/pydevd_cython_darwin_39_64.pyx:620\u001B[0m, in \u001B[0;36m_pydevd_bundle.pydevd_cython_darwin_39_64.PyDBFrame.trace_dispatch\u001B[0;34m()\u001B[0m\n",
      "File \u001B[0;32m_pydevd_bundle/pydevd_cython_darwin_39_64.pyx:929\u001B[0m, in \u001B[0;36m_pydevd_bundle.pydevd_cython_darwin_39_64.PyDBFrame.trace_dispatch\u001B[0;34m()\u001B[0m\n",
      "File \u001B[0;32m_pydevd_bundle/pydevd_cython_darwin_39_64.pyx:920\u001B[0m, in \u001B[0;36m_pydevd_bundle.pydevd_cython_darwin_39_64.PyDBFrame.trace_dispatch\u001B[0;34m()\u001B[0m\n",
      "File \u001B[0;32m_pydevd_bundle/pydevd_cython_darwin_39_64.pyx:317\u001B[0m, in \u001B[0;36m_pydevd_bundle.pydevd_cython_darwin_39_64.PyDBFrame.do_wait_suspend\u001B[0;34m()\u001B[0m\n",
      "File \u001B[0;32m/Applications/PyCharm.app/Contents/plugins/python/helpers/pydev/pydevd.py:1160\u001B[0m, in \u001B[0;36mPyDB.do_wait_suspend\u001B[0;34m(self, thread, frame, event, arg, send_suspend_message, is_unhandled_exception)\u001B[0m\n\u001B[1;32m   1157\u001B[0m         from_this_thread\u001B[38;5;241m.\u001B[39mappend(frame_id)\n\u001B[1;32m   1159\u001B[0m \u001B[38;5;28;01mwith\u001B[39;00m \u001B[38;5;28mself\u001B[39m\u001B[38;5;241m.\u001B[39m_threads_suspended_single_notification\u001B[38;5;241m.\u001B[39mnotify_thread_suspended(thread_id, stop_reason):\n\u001B[0;32m-> 1160\u001B[0m     \u001B[38;5;28;43mself\u001B[39;49m\u001B[38;5;241;43m.\u001B[39;49m\u001B[43m_do_wait_suspend\u001B[49m\u001B[43m(\u001B[49m\u001B[43mthread\u001B[49m\u001B[43m,\u001B[49m\u001B[43m \u001B[49m\u001B[43mframe\u001B[49m\u001B[43m,\u001B[49m\u001B[43m \u001B[49m\u001B[43mevent\u001B[49m\u001B[43m,\u001B[49m\u001B[43m \u001B[49m\u001B[43marg\u001B[49m\u001B[43m,\u001B[49m\u001B[43m \u001B[49m\u001B[43msuspend_type\u001B[49m\u001B[43m,\u001B[49m\u001B[43m \u001B[49m\u001B[43mfrom_this_thread\u001B[49m\u001B[43m)\u001B[49m\n",
      "File \u001B[0;32m/Applications/PyCharm.app/Contents/plugins/python/helpers/pydev/pydevd.py:1175\u001B[0m, in \u001B[0;36mPyDB._do_wait_suspend\u001B[0;34m(self, thread, frame, event, arg, suspend_type, from_this_thread)\u001B[0m\n\u001B[1;32m   1172\u001B[0m             \u001B[38;5;28mself\u001B[39m\u001B[38;5;241m.\u001B[39m_call_mpl_hook()\n\u001B[1;32m   1174\u001B[0m         \u001B[38;5;28mself\u001B[39m\u001B[38;5;241m.\u001B[39mprocess_internal_commands()\n\u001B[0;32m-> 1175\u001B[0m         \u001B[43mtime\u001B[49m\u001B[38;5;241;43m.\u001B[39;49m\u001B[43msleep\u001B[49m\u001B[43m(\u001B[49m\u001B[38;5;241;43m0.01\u001B[39;49m\u001B[43m)\u001B[49m\n\u001B[1;32m   1177\u001B[0m \u001B[38;5;28mself\u001B[39m\u001B[38;5;241m.\u001B[39mcancel_async_evaluation(get_current_thread_id(thread), \u001B[38;5;28mstr\u001B[39m(\u001B[38;5;28mid\u001B[39m(frame)))\n\u001B[1;32m   1179\u001B[0m \u001B[38;5;66;03m# process any stepping instructions\u001B[39;00m\n",
      "\u001B[0;31mKeyboardInterrupt\u001B[0m: "
     ]
    }
   ],
   "source": [
    "from libero.libero.envs.objects import get_object_dict, get_object_fn\n",
    "\n",
    "# Get a dictionary of all the objects\n",
    "object_dict = get_object_dict()\n",
    "print(object_dict)"
   ]
  },
  {
   "attachments": {},
   "cell_type": "markdown",
   "metadata": {},
   "source": [
    "Now you can see all the available objects, you can retrieve the object class by specifying their categories (which are the keys in the dictionary)"
   ]
  },
  {
   "cell_type": "code",
   "execution_count": 3,
   "metadata": {},
   "outputs": [
    {
     "name": "stdout",
     "output_type": "stream",
     "text": [
      "moka_pot : defined in the class  <class 'libero.libero.envs.objects.turbosquid_objects.MokaPot'>\n"
     ]
    }
   ],
   "source": [
    "category_name = \"moka_pot\"\n",
    "object_cls = get_object_fn(category_name)\n",
    "print(category_name, \": defined in the class \", object_cls)"
   ]
  },
  {
   "attachments": {},
   "cell_type": "markdown",
   "metadata": {},
   "source": [
    "Similarly, you can retrieve the information about predicates."
   ]
  },
  {
   "cell_type": "code",
   "execution_count": 5,
   "metadata": {},
   "outputs": [
    {
     "name": "stdout",
     "output_type": "stream",
     "text": [
      "{'true': <libero.libero.envs.predicates.base_predicates.TruePredicateFn object at 0x1377b7fd0>, 'false': <libero.libero.envs.predicates.base_predicates.FalsePredicateFn object at 0x1377b7ee0>, 'in': <libero.libero.envs.predicates.base_predicates.In object at 0x1377b7820>, 'on': <libero.libero.envs.predicates.base_predicates.On object at 0x1377b7580>, 'up': <libero.libero.envs.predicates.base_predicates.Up object at 0x1377b6b30>, 'printjointstate': <libero.libero.envs.predicates.base_predicates.PrintJointState object at 0x1377b6a40>, 'open': <libero.libero.envs.predicates.base_predicates.Open object at 0x1377b69b0>, 'close': <libero.libero.envs.predicates.base_predicates.Close object at 0x1377b5cc0>, 'turnon': <libero.libero.envs.predicates.base_predicates.TurnOn object at 0x1377b45e0>, 'turnoff': <libero.libero.envs.predicates.base_predicates.TurnOff object at 0x1377b4610>}\n",
      "=============\n",
      "<libero.libero.envs.predicates.base_predicates.On object at 0x1377b7580>\n"
     ]
    }
   ],
   "source": [
    "from libero.libero.envs.predicates import get_predicate_fn_dict, get_predicate_fn\n",
    "\n",
    "predicate_dict = get_predicate_fn_dict()\n",
    "print(predicate_dict)\n",
    "print(\"=============\")\n",
    "predicate_name = \"on\"\n",
    "print(get_predicate_fn(predicate_name))\n"
   ]
  },
  {
   "attachments": {},
   "cell_type": "markdown",
   "metadata": {},
   "source": [
    "## 2. Define your own initial state distribution"
   ]
  },
  {
   "cell_type": "code",
   "execution_count": 8,
   "metadata": {},
   "outputs": [],
   "source": [
    "import numpy as np\n",
    "from libero.libero.utils.bddl_generation_utils import get_xy_region_kwargs_list_from_regions_info\n",
    "from libero.libero.utils.mu_utils import register_mu, InitialSceneTemplates\n",
    "from libero.libero.utils.task_generation_utils import register_task_info, get_task_info, generate_bddl_from_task_info\n",
    "\n",
    "@register_mu(scene_type=\"kitchen\")\n",
    "class KitchenScene1(InitialSceneTemplates):\n",
    "    def __init__(self):\n",
    "\n",
    "        fixture_num_info = {\n",
    "            \"kitchen_table\": 1,\n",
    "            \"wooden_cabinet\": 1,\n",
    "        }\n",
    "\n",
    "        object_num_info = {\n",
    "            \"akita_black_bowl\": 1,\n",
    "            \"plate\": 1,\n",
    "        }\n",
    "\n",
    "        super().__init__(\n",
    "            workspace_name=\"kitchen_table\",\n",
    "            fixture_num_info=fixture_num_info,\n",
    "            object_num_info=object_num_info\n",
    "        )\n",
    "\n",
    "    def define_regions(self):\n",
    "        self.regions.update(\n",
    "            self.get_region_dict(region_centroid_xy=[0.0, -0.30], \n",
    "                                 region_name=\"wooden_cabinet_init_region\", \n",
    "                                 target_name=self.workspace_name, \n",
    "                                 region_half_len=0.01,\n",
    "                                 yaw_rotation=(np.pi, np.pi))\n",
    "        )\n",
    "\n",
    "        self.regions.update(\n",
    "            self.get_region_dict(region_centroid_xy=[0., 0.0], \n",
    "                                 region_name=\"akita_black_bowl_init_region\", \n",
    "                                 target_name=self.workspace_name, \n",
    "                                 region_half_len=0.025)\n",
    "        )\n",
    "\n",
    "        self.regions.update(\n",
    "            self.get_region_dict(region_centroid_xy=[0.0, 0.25], \n",
    "                                 region_name=\"plate_init_region\", \n",
    "                                 target_name=self.workspace_name, \n",
    "                                 region_half_len=0.025)\n",
    "        )\n",
    "        self.xy_region_kwargs_list = get_xy_region_kwargs_list_from_regions_info(self.regions)\n",
    "\n",
    "    @property\n",
    "    def init_states(self):\n",
    "        states = [\n",
    "            (\"On\", \"akita_black_bowl_1\", \"kitchen_table_akita_black_bowl_init_region\"),\n",
    "            (\"On\", \"plate_1\", \"kitchen_table_plate_init_region\"),\n",
    "            (\"On\", \"wooden_cabinet_1\", \"kitchen_table_wooden_cabinet_init_region\")]\n",
    "        return states"
   ]
  },
  {
   "attachments": {},
   "cell_type": "markdown",
   "metadata": {},
   "source": [
    "## 3. Define your own task goal\n",
    "\n",
    "Now that you've defined the initial state distributions, you can specify a task goal based on the available objects and the potential goals it can acehive."
   ]
  },
  {
   "cell_type": "code",
   "execution_count": 9,
   "metadata": {},
   "outputs": [],
   "source": [
    "scene_name = \"kitchen_scene1\"\n",
    "language = \"Your Language 1\"\n",
    "register_task_info(language,\n",
    "                    scene_name=scene_name,\n",
    "                    objects_of_interest=[\"wooden_cabinet_1\", \"akita_black_bowl_1\"],\n",
    "                    goal_states=[(\"Open\", \"wooden_cabinet_1_top_region\"), (\"In\", \"akita_black_bowl_1\", \"wooden_cabinet_1_top_region\")]\n",
    ")\n",
    "\n",
    "# Create another task with the same scene layout\n",
    "scene_name = \"kitchen_scene1\"\n",
    "language = \"Your Language 2\"\n",
    "register_task_info(language,\n",
    "                    scene_name=scene_name,\n",
    "                    objects_of_interest=[\"wooden_cabinet_1\", \"akita_black_bowl_1\"],\n",
    "                    goal_states=[(\"Open\", \"wooden_cabinet_1_top_region\"), (\"In\", \"akita_black_bowl_1\", \"wooden_cabinet_1_bottom_region\")]\n",
    ")"
   ]
  },
  {
   "attachments": {},
   "cell_type": "markdown",
   "metadata": {},
   "source": [
    "The task goals will be temporarily saved in the variable `libero.libero.utils.task_generation_utils.TASK_INFO` in the format of namedtuple `libero.libero.utils.task_generation_utils.TaskInfoTuple`. This design aims to make it easy for batch creation of tasks."
   ]
  },
  {
   "cell_type": "code",
   "execution_count": 10,
   "metadata": {},
   "outputs": [
    {
     "name": "stdout",
     "output_type": "stream",
     "text": [
      "Succefully generated: 2\n",
      "['tmp/pddl_files/KITCHEN_SCENE1_your_language_1.bddl', 'tmp/pddl_files/KITCHEN_SCENE1_your_language_2.bddl']\n",
      "Encountered some failures:  []\n"
     ]
    }
   ],
   "source": [
    "# This is the default path to store all the pddl scene files. Here we store the files in the temporary folder. If you want to directly add files into the libero codebase, get the default path use the following commented lines:\n",
    "# from libero.libero import get_libero_path\n",
    "# YOUR_BDDL_FILE_PATH = get_libero_path(\"bddl_files\")\n",
    "\n",
    "YOUR_BDDL_FILE_PATH = \"tmp/pddl_files\"\n",
    "bddl_file_names, failures = generate_bddl_from_task_info(folder=YOUR_BDDL_FILE_PATH)\n",
    "\n",
    "print(bddl_file_names)\n",
    "\n",
    "print(\"Encountered some failures: \", failures)\n"
   ]
  },
  {
   "attachments": {},
   "cell_type": "markdown",
   "metadata": {},
   "source": [
    "Now you can see the content of the pddl file name. (Notice that we named our variable with bddl, since we are actually using the bddl package from Behavior. However, bddl is a subset of pddl, so we stick to the word PDDL for consistency in our paper writing and avoid confusion to the community.)"
   ]
  },
  {
   "cell_type": "code",
   "execution_count": 11,
   "metadata": {},
   "outputs": [
    {
     "name": "stdout",
     "output_type": "stream",
     "text": [
      "(define (problem LIBERO_Kitchen_Tabletop_Manipulation)\n",
      "  (:domain robosuite)\n",
      "  (:language Your Language 1)\n",
      "    (:regions\n",
      "      (wooden_cabinet_init_region\n",
      "          (:target kitchen_table)\n",
      "          (:ranges (\n",
      "              (-0.01 -0.31 0.01 -0.29)\n",
      "            )\n",
      "          )\n",
      "          (:yaw_rotation (\n",
      "              (3.141592653589793 3.141592653589793)\n",
      "            )\n",
      "          )\n",
      "      )\n",
      "      (akita_black_bowl_init_region\n",
      "          (:target kitchen_table)\n",
      "          (:ranges (\n",
      "              (-0.025 -0.025 0.025 0.025)\n",
      "            )\n",
      "          )\n",
      "          (:yaw_rotation (\n",
      "              (0.0 0.0)\n",
      "            )\n",
      "          )\n",
      "      )\n",
      "      (plate_init_region\n",
      "          (:target kitchen_table)\n",
      "          (:ranges (\n",
      "              (-0.025 0.225 0.025 0.275)\n",
      "            )\n",
      "          )\n",
      "          (:yaw_rotation (\n",
      "              (0.0 0.0)\n",
      "            )\n",
      "          )\n",
      "      )\n",
      "      (top_side\n",
      "          (:target wooden_cabinet_1)\n",
      "      )\n",
      "      (top_region\n",
      "          (:target wooden_cabinet_1)\n",
      "      )\n",
      "      (middle_region\n",
      "          (:target wooden_cabinet_1)\n",
      "      )\n",
      "      (bottom_region\n",
      "          (:target wooden_cabinet_1)\n",
      "      )\n",
      "    )\n",
      "\n",
      "  (:fixtures\n",
      "    kitchen_table - kitchen_table\n",
      "    wooden_cabinet_1 - wooden_cabinet\n",
      "  )\n",
      "\n",
      "  (:objects\n",
      "    akita_black_bowl_1 - akita_black_bowl\n",
      "    plate_1 - plate\n",
      "  )\n",
      "\n",
      "  (:obj_of_interest\n",
      "    wooden_cabinet_1\n",
      "    akita_black_bowl_1\n",
      "  )\n",
      "\n",
      "  (:init\n",
      "    (On akita_black_bowl_1 kitchen_table_akita_black_bowl_init_region)\n",
      "    (On plate_1 kitchen_table_plate_init_region)\n",
      "    (On wooden_cabinet_1 kitchen_table_wooden_cabinet_init_region)\n",
      "  )\n",
      "\n",
      "  (:goal\n",
      "    (And (Open wooden_cabinet_1_top_region) (In akita_black_bowl_1 wooden_cabinet_1_top_region))\n",
      "  )\n",
      "\n",
      ")\n"
     ]
    }
   ],
   "source": [
    "with open(bddl_file_names[0], \"r\") as f:\n",
    "    content = f.read()\n",
    "print(content)"
   ]
  }
 ],
 "metadata": {
  "kernelspec": {
   "display_name": "Python 3 (ipykernel)",
   "language": "python",
   "name": "python3"
  },
  "language_info": {
   "codemirror_mode": {
    "name": "ipython",
    "version": 3
   },
   "file_extension": ".py",
   "mimetype": "text/x-python",
   "name": "python",
   "nbconvert_exporter": "python",
   "pygments_lexer": "ipython3",
   "version": "3.10.7"
  }
 },
 "nbformat": 4,
 "nbformat_minor": 2
}
